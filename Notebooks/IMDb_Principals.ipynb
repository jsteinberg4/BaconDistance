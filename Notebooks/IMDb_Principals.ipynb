{
 "cells": [
  {
   "cell_type": "markdown",
   "metadata": {},
   "source": [
    "# Exploration of IMDb Principals dataset\n",
    "\n",
    "<li>\n",
    "    The principals dataset contains film titles, cast members, their roles, etc.\n",
    "</li>"
   ]
  },
  {
   "cell_type": "code",
   "execution_count": 2,
   "metadata": {},
   "outputs": [],
   "source": [
    "import pandas as pd\n",
    "import numpy as np"
   ]
  },
  {
   "cell_type": "markdown",
   "metadata": {},
   "source": [
    "### Import the dataset"
   ]
  },
  {
   "cell_type": "code",
   "execution_count": 9,
   "metadata": {},
   "outputs": [],
   "source": [
    "data_file = '../Datasets/IMDb title_principals.csv'\n",
    "principals = pd.read_csv(data_file)"
   ]
  },
  {
   "cell_type": "code",
   "execution_count": 10,
   "metadata": {},
   "outputs": [
    {
     "data": {
      "text/html": [
       "<div>\n",
       "<style scoped>\n",
       "    .dataframe tbody tr th:only-of-type {\n",
       "        vertical-align: middle;\n",
       "    }\n",
       "\n",
       "    .dataframe tbody tr th {\n",
       "        vertical-align: top;\n",
       "    }\n",
       "\n",
       "    .dataframe thead th {\n",
       "        text-align: right;\n",
       "    }\n",
       "</style>\n",
       "<table border=\"1\" class=\"dataframe\">\n",
       "  <thead>\n",
       "    <tr style=\"text-align: right;\">\n",
       "      <th></th>\n",
       "      <th>imdb_title_id</th>\n",
       "      <th>ordering</th>\n",
       "      <th>imdb_name_id</th>\n",
       "      <th>category</th>\n",
       "      <th>job</th>\n",
       "      <th>characters</th>\n",
       "    </tr>\n",
       "  </thead>\n",
       "  <tbody>\n",
       "    <tr>\n",
       "      <th>0</th>\n",
       "      <td>tt0000009</td>\n",
       "      <td>1</td>\n",
       "      <td>nm0063086</td>\n",
       "      <td>actress</td>\n",
       "      <td>NaN</td>\n",
       "      <td>[\"Miss Geraldine Holbrook (Miss Jerry)\"]</td>\n",
       "    </tr>\n",
       "    <tr>\n",
       "      <th>1</th>\n",
       "      <td>tt0000009</td>\n",
       "      <td>2</td>\n",
       "      <td>nm0183823</td>\n",
       "      <td>actor</td>\n",
       "      <td>NaN</td>\n",
       "      <td>[\"Mr. Hamilton\"]</td>\n",
       "    </tr>\n",
       "    <tr>\n",
       "      <th>2</th>\n",
       "      <td>tt0000009</td>\n",
       "      <td>3</td>\n",
       "      <td>nm1309758</td>\n",
       "      <td>actor</td>\n",
       "      <td>NaN</td>\n",
       "      <td>[\"Chauncey Depew - the Director of the New Yor...</td>\n",
       "    </tr>\n",
       "    <tr>\n",
       "      <th>3</th>\n",
       "      <td>tt0000009</td>\n",
       "      <td>4</td>\n",
       "      <td>nm0085156</td>\n",
       "      <td>director</td>\n",
       "      <td>NaN</td>\n",
       "      <td>NaN</td>\n",
       "    </tr>\n",
       "    <tr>\n",
       "      <th>4</th>\n",
       "      <td>tt0000574</td>\n",
       "      <td>1</td>\n",
       "      <td>nm0846887</td>\n",
       "      <td>actress</td>\n",
       "      <td>NaN</td>\n",
       "      <td>[\"Kate Kelly\"]</td>\n",
       "    </tr>\n",
       "  </tbody>\n",
       "</table>\n",
       "</div>"
      ],
      "text/plain": [
       "  imdb_title_id  ordering imdb_name_id  category  job  \\\n",
       "0     tt0000009         1    nm0063086   actress  NaN   \n",
       "1     tt0000009         2    nm0183823     actor  NaN   \n",
       "2     tt0000009         3    nm1309758     actor  NaN   \n",
       "3     tt0000009         4    nm0085156  director  NaN   \n",
       "4     tt0000574         1    nm0846887   actress  NaN   \n",
       "\n",
       "                                          characters  \n",
       "0           [\"Miss Geraldine Holbrook (Miss Jerry)\"]  \n",
       "1                                   [\"Mr. Hamilton\"]  \n",
       "2  [\"Chauncey Depew - the Director of the New Yor...  \n",
       "3                                                NaN  \n",
       "4                                     [\"Kate Kelly\"]  "
      ]
     },
     "execution_count": 10,
     "metadata": {},
     "output_type": "execute_result"
    }
   ],
   "source": [
    "principals.head()"
   ]
  },
  {
   "cell_type": "code",
   "execution_count": 19,
   "metadata": {},
   "outputs": [
    {
     "data": {
      "text/plain": [
       "[\"Self\"]            720\n",
       "[\"Anna\"]            539\n",
       "[\"Alex\"]            460\n",
       "[\"David\"]           455\n",
       "[\"Sam\"]             415\n",
       "                   ... \n",
       "[\"Kelly's Aunt\"]      1\n",
       "[\"Hr. Poulsen\"]       1\n",
       "[\"Simon Duffy\"]       1\n",
       "[\"Zorka Rajic\"]       1\n",
       "[\"Babe Marvin\"]       1\n",
       "Name: characters, Length: 212899, dtype: int64"
      ]
     },
     "execution_count": 19,
     "metadata": {},
     "output_type": "execute_result"
    }
   ],
   "source": [
    "char_names = principals[\"characters\"].value_counts()\n",
    "char_names"
   ]
  },
  {
   "cell_type": "markdown",
   "metadata": {},
   "source": [
    "## Visualizing the unique character names: A Tangent\n",
    "\n",
    "* I realized that, since this dataset contains nearly every film on IMDb, the count of unique characters in this dataset should indicate what character names are most common in all films (on IMDb)."
   ]
  },
  {
   "cell_type": "code",
   "execution_count": 42,
   "metadata": {},
   "outputs": [
    {
     "data": {
      "application/vnd.plotly.v1+json": {
       "config": {
        "plotlyServerURL": "https://plot.ly"
       },
       "data": [
        {
         "hovertemplate": "Character Names=%{x}<br>Number of Occurrences=%{y}<extra></extra>",
         "legendgroup": "",
         "marker": {
          "color": "#636efa",
          "symbol": "circle"
         },
         "mode": "markers",
         "name": "",
         "orientation": "v",
         "showlegend": false,
         "type": "scatter",
         "x": [
          "[\"Self\"]",
          "[\"Anna\"]",
          "[\"Alex\"]",
          "[\"David\"]",
          "[\"Sam\"]",
          "[\"Maria\"]",
          "[\"Paul\"]",
          "[\"Jack\"]",
          "[\"Sarah\"]",
          "[\"John\"]",
          "[\"Laura\"]",
          "[\"Frank\"]",
          "[\"Max\"]",
          "[\"Michael\"]",
          "[\"Tom\"]",
          "[\"Mike\"]",
          "[\"Mother\"]",
          "[\"Mary\"]",
          "[\"Alice\"]",
          "[\"Peter\"]",
          "[\"Ben\"]",
          "[\"Joe\"]",
          "[\"Sara\"]",
          "[\"Marie\"]",
          "[\"Charlie\"]",
          "[\"Daniel\"]",
          "[\"Lisa\"]",
          "[\"Tony\"]",
          "[\"Kate\"]",
          "[\"Mark\"]",
          "[\"Julia\"]",
          "[\"Nick\"]",
          "[\"Chris\"]",
          "[\"Father\"]",
          "[\"Simon\"]",
          "[\"Martin\"]",
          "[\"Eva\"]",
          "[\"Ana\"]",
          "[\"Rachel\"]",
          "[\"Claire\"]",
          "[\"Julie\"]",
          "[\"Adam\"]",
          "[\"Thomas\"]",
          "[\"Danny\"]",
          "[\"Steve\"]",
          "[\"Nina\"]",
          "[\"James\"]",
          "[\"Robert\"]",
          "[\"Jenny\"]",
          "[\"Jake\"]",
          "[\"Jim\"]",
          "[\"Narrator\"]",
          "[\"Harry\"]",
          "[\"Jimmy\"]",
          "[\"George\"]",
          "[\"Bill\"]",
          "[\"Emma\"]",
          "[\"Jane\"]",
          "[\"Richard\"]",
          "[\"Karen\"]",
          "[\"Ali\"]",
          "[\"Johnny\"]",
          "[\"Sophie\"]",
          "[\"Linda\"]",
          "[\"Eric\"]",
          "[\"Rita\"]",
          "[\"Helen\"]",
          "[\"Susan\"]",
          "[\"Lucy\"]",
          "[\"Anne\"]",
          "[\"Eddie\"]",
          "[\"Sandra\"]",
          "[\"Rose\"]",
          "[\"Annie\"]",
          "[\"Doctor\"]",
          "[\"Billy\"]",
          "[\"Jessica\"]",
          "[\"Angela\"]",
          "[\"Matt\"]",
          "[\"Victor\"]",
          "[\"Maggie\"]",
          "[\"Tommy\"]",
          "[\"Amy\"]",
          "[\"Beth\"]",
          "[\"Bobby\"]",
          "[\"Jennifer\"]",
          "[\"Leo\"]",
          "[\"Jean\"]",
          "[\"Carlos\"]",
          "[\"Emily\"]",
          "[\"Antonio\"]",
          "[\"Henry\"]",
          "[\"Jason\"]",
          "[\"Elizabeth\"]",
          "[\"Marta\"]",
          "[\"Barbara\"]",
          "[\"Dave\"]",
          "[\"Clara\"]",
          "[\"Jeff\"]",
          "[\"Bruno\"]",
          "[\"Tina\"]",
          "[\"Charlotte\"]",
          "[\"Elena\"]",
          "[\"Andrea\"]",
          "[\"Carmen\"]",
          "[\"Dan\"]",
          "[\"Christine\"]",
          "[\"Kevin\"]",
          "[\"Kim\"]",
          "[\"Bob\"]",
          "[\"Charles\"]",
          "[\"Louise\"]",
          "[\"Ray\"]",
          "[\"Marco\"]",
          "[\"Pierre\"]",
          "[\"Amanda\"]",
          "[\"Lola\"]",
          "[\"Vincent\"]",
          "[\"Brian\"]",
          "[\"Molly\"]",
          "[\"Vera\"]",
          "[\"Andy\"]",
          "[\"Rosa\"]",
          "[\"Catherine\"]",
          "[\"Luke\"]",
          "[\"Sally\"]",
          "[\"Mario\"]",
          "[\"Kelly\"]",
          "[\"Tim\"]",
          "[\"Lena\"]",
          "[\"Michelle\"]",
          "[\"Grace\"]",
          "[\"Lily\"]",
          "[\"Ivan\"]",
          "[\"Nancy\"]",
          "[\"Nicole\"]",
          "[\"Fred\"]",
          "[\"Pete\"]",
          "[\"Gabriel\"]",
          "[\"Rebecca\"]",
          "[\"Josh\"]",
          "[\"Samantha\"]",
          "[\"Maya\"]",
          "[\"Miguel\"]",
          "[\"Jerry\"]",
          "[\"Katie\"]",
          "[\"Rick\"]",
          "[\"Larry\"]",
          "[\"Phil\"]",
          "[\"Ryan\"]",
          "[\"Patrick\"]",
          "[\"Carla\"]",
          "[\"Carl\"]",
          "[\"Diana\"]",
          "[\"Marina\"]",
          "[\"Albert\"]",
          "[\"Chloe\"]",
          "[\"Sonia\"]",
          "[\"Joseph\"]",
          "[\"Marcus\"]",
          "[\"Irene\"]",
          "[\"Walter\"]",
          "[\"Teresa\"]",
          "[\"Gloria\"]",
          "[\"Carol\"]",
          "[\"Olga\"]",
          "[\"Pedro\"]",
          "[\"Sean\"]",
          "[\"Jamie\"]",
          "[\"Jesse\"]",
          "[\"Hannah\"]",
          "[\"Monica\"]",
          "[\"Jeanne\"]",
          "[\"Mia\"]",
          "[\"Will\"]",
          "[\"Stella\"]",
          "[\"Frankie\"]",
          "[\"Joey\"]",
          "[\"Juan\"]",
          "[\"Ruth\"]",
          "[\"Jackie\"]",
          "[\"Roger\"]",
          "[\"Mona\"]",
          "[\"Betty\"]",
          "[\"Scott\"]",
          "[\"Paula\"]",
          "[\"Isabel\"]",
          "[\"Jacob\"]",
          "[\"Gina\"]",
          "[\"Angel\"]",
          "[\"Priya\"]",
          "[\"Claudia\"]",
          "[\"Liz\"]",
          "[\"Lucas\"]",
          "[\"Marianne\"]",
          "[\"Kyle\"]",
          "[\"Jill\"]",
          "[\"Margaret\"]",
          "[\"Marc\"]",
          "[\"Anita\"]",
          "[\"Cindy\"]",
          "[\"Antoine\"]",
          "[\"Jonathan\"]",
          "[\"Arthur\"]",
          "[\"Terry\"]",
          "[\"Nora\"]",
          "[\"Diane\"]",
          "[\"Caroline\"]",
          "[\"Louis\"]",
          "[\"Alan\"]",
          "[\"Diego\"]",
          "[\"Doug\"]",
          "[\"William\"]",
          "[\"Andrew\"]",
          "[\"Jay\"]",
          "[\"Jan\"]",
          "[\"Stan\"]",
          "[\"Natalie\"]",
          "[\"Gary\"]",
          "[\"Ashley\"]",
          "[\"Ed\"]",
          "[\"Victoria\"]",
          "[\"Isabelle\"]",
          "[\"Eve\"]",
          "[\"Sofia\"]",
          "[\"Benny\"]",
          "[\"May\"]",
          "[\"Sandy\"]",
          "[\"Veronica\"]",
          "[\"María\"]",
          "[\"Christian\"]",
          "[\"Zoe\"]",
          "[\"Olivia\"]",
          "[\"Priest\"]",
          "[\"Ann\"]",
          "[\"Tyler\"]",
          "[\"Toni\"]",
          "[\"Helena\"]",
          "[\"Ellen\"]",
          "[\"Luis\"]",
          "[\"Alicia\"]",
          "[\"Martha\"]",
          "[\"Greg\"]",
          "[\"Silvia\"]",
          "[\"Roy\"]",
          "[\"Ted\"]",
          "[\"Aaron\"]",
          "[\"Vicky\"]",
          "[\"Roberto\"]",
          "[\"Brad\"]",
          "[\"Julian\"]",
          "[\"Jess\"]",
          "[\"Lou\"]",
          "[\"Sasha\"]",
          "[\"The Man\"]",
          "[\"Sylvia\"]",
          "[\"Samuel\"]",
          "[\"Girl\"]",
          "[\"Erik\"]",
          "[\"Nathan\"]",
          "[\"Hank\"]",
          "[\"Nurse\"]",
          "[\"Vanessa\"]",
          "[\"Camille\"]",
          "[\"Jacques\"]",
          "[\"Karl\"]",
          "[\"Francesca\"]",
          "[\"Michel\"]",
          "[\"Ronnie\"]",
          "[\"Ken\"]",
          "[\"Oscar\"]",
          "[\"Manuel\"]",
          "[\"Stephanie\"]",
          "[\"Natasha\"]",
          "[\"Pablo\"]",
          "[\"Justin\"]",
          "[\"The Girl\"]",
          "[\"François\"]",
          "[\"Rob\"]",
          "[\"Wendy\"]",
          "[\"Man\"]",
          "[\"Ethan\"]",
          "[\"Mom\"]",
          "[\"Lee\"]",
          "[\"Dennis\"]",
          "[\"Raja\"]",
          "[\"Mitch\"]",
          "[\"Philippe\"]",
          "[\"Dana\"]",
          "[\"Denise\"]",
          "[\"Dean\"]",
          "[\"Nadia\"]",
          "[\"Marion\"]",
          "[\"Leon\"]",
          "[\"Dad\"]",
          "[\"Ian\"]",
          "[\"Jo\"]",
          "[\"Gus\"]",
          "[\"Iris\"]",
          "[\"Katya\"]",
          "[\"Tanya\"]",
          "[\"Lucia\"]",
          "[\"Lauren\"]",
          "[\"Pooja\"]",
          "[\"Additional Voices\"]",
          "[\"Professor\"]",
          "[\"Jonas\"]",
          "[\"Hélène\"]",
          "[\"Carlo\"]",
          "[\"Judy\"]",
          "[\"Daisy\"]",
          "[\"Melanie\"]",
          "[\"Abby\"]",
          "[\"Tara\"]",
          "[\"Angie\"]",
          "[\"Tracy\"]",
          "[\"Sebastian\"]",
          "[\"Anthony\"]",
          "[\"Katherine\"]",
          "[\"Hugo\"]",
          "[\"Hans\"]",
          "[\"Robin\"]",
          "[\"Jorge\"]",
          "[\"Juliette\"]",
          "[\"Guy\"]",
          "[\"Derek\"]",
          "[\"Ricky\"]",
          "[\"Bruce\"]",
          "[\"Jessie\"]",
          "[\"Heather\"]",
          "[\"Mara\"]",
          "[\"Stefan\"]",
          "[\"Janet\"]",
          "[\"Fernando\"]",
          "[\"Dylan\"]",
          "[\"Morgan\"]",
          "[\"Mickey\"]",
          "[\"Donna\"]",
          "[\"Chuck\"]",
          "[\"Nikki\"]",
          "[\"Sue\"]",
          "[\"Kathy\"]",
          "[\"Esther\"]",
          "[\"Patricia\"]",
          "[\"Steven\"]",
          "[\"Woman\"]",
          "[\"Mimi\"]",
          "[\"Simone\"]",
          "[\"Travis\"]",
          "[\"Paolo\"]",
          "[\"Felix\"]",
          "[\"Grandfather\"]",
          "[\"Becky\"]",
          "[\"Cathy\"]",
          "[\"Giovanni\"]",
          "[\"Lucía\"]",
          "[\"Megan\"]",
          "[\"Police Officer\"]",
          "[\"Francis\"]",
          "[\"Barry\"]",
          "[\"Alberto\"]",
          "[\"Ralph\"]",
          "[\"April\"]",
          "[\"Roman\"]",
          "[\"Elsa\"]",
          "[\"Hanna\"]",
          "[\"Anton\"]",
          "[\"Marty\"]",
          "[\"Omar\"]",
          "[\"Hopalong Cassidy\"]",
          "[\"Manu\"]",
          "[\"Ruby\"]",
          "[\"Magda\"]",
          "[\"Liza\"]",
          "[\"Viktor\"]",
          "[\"Doris\"]",
          "[\"Grandmother\"]",
          "[\"Stephen\"]",
          "[\"Jordan\"]",
          "[\"Oliver\"]",
          "[\"Taylor\"]",
          "[\"Philip\"]",
          "[\"Miranda\"]",
          "[\"Boris\"]",
          "[\"Jon\"]",
          "[\"Willy\"]",
          "[\"Amber\"]",
          "[\"Radha\"]",
          "[\"Ellie\"]",
          "[\"Julien\"]",
          "[\"Connie\"]",
          "[\"Mariana\"]",
          "[\"Todd\"]",
          "[\"Kat\"]",
          "[\"Greta\"]",
          "[\"Jeremy\"]",
          "[\"Carter\"]",
          "[\"Al\"]",
          "[\"Marcos\"]",
          "[\"Anjali\"]",
          "[\"Claude\"]",
          "[\"Leila\"]",
          "[\"Rosie\"]",
          "[\"Cynthia\"]",
          "[\"Sunny\"]",
          "[\"Jesus\"]",
          "[\"Keith\"]",
          "[\"Theo\"]",
          "[\"Suzanne\"]",
          "[\"Valerie\"]",
          "[\"Françoise\"]",
          "[\"Vince\"]",
          "[\"Carrie\"]",
          "[\"Brandon\"]",
          "[\"Jen\"]",
          "[\"Judith\"]",
          "[\"Lina\"]",
          "[\"Mason\"]",
          "[\"Elaine\"]",
          "[\"Sheila\"]",
          "[\"Doc\"]",
          "[\"Pat\"]"
         ],
         "xaxis": "x",
         "y": [
          720,
          539,
          460,
          455,
          415,
          408,
          404,
          401,
          372,
          359,
          342,
          333,
          333,
          316,
          306,
          301,
          295,
          293,
          292,
          281,
          270,
          267,
          266,
          261,
          261,
          259,
          257,
          253,
          249,
          245,
          239,
          231,
          230,
          229,
          225,
          225,
          225,
          221,
          220,
          219,
          215,
          214,
          206,
          201,
          198,
          197,
          196,
          195,
          191,
          182,
          182,
          182,
          180,
          179,
          179,
          176,
          176,
          175,
          174,
          173,
          173,
          172,
          170,
          170,
          166,
          166,
          165,
          164,
          161,
          161,
          161,
          157,
          157,
          157,
          155,
          151,
          150,
          150,
          149,
          149,
          148,
          148,
          148,
          148,
          147,
          147,
          146,
          146,
          145,
          143,
          142,
          142,
          139,
          138,
          138,
          138,
          137,
          137,
          136,
          136,
          135,
          135,
          135,
          134,
          134,
          133,
          133,
          132,
          132,
          132,
          131,
          130,
          129,
          128,
          128,
          128,
          128,
          128,
          127,
          127,
          126,
          126,
          124,
          122,
          122,
          121,
          121,
          121,
          121,
          121,
          121,
          120,
          119,
          119,
          118,
          118,
          116,
          114,
          114,
          114,
          114,
          114,
          114,
          112,
          111,
          109,
          109,
          108,
          108,
          108,
          107,
          107,
          106,
          106,
          105,
          105,
          105,
          104,
          104,
          104,
          103,
          103,
          103,
          102,
          102,
          101,
          100,
          100,
          99,
          98,
          98,
          98,
          97,
          97,
          97,
          96,
          96,
          96,
          96,
          95,
          94,
          94,
          93,
          93,
          93,
          91,
          91,
          91,
          91,
          91,
          90,
          90,
          90,
          89,
          89,
          89,
          88,
          88,
          87,
          87,
          86,
          86,
          86,
          85,
          85,
          85,
          84,
          84,
          83,
          83,
          82,
          82,
          82,
          82,
          82,
          82,
          81,
          81,
          81,
          81,
          81,
          81,
          80,
          80,
          80,
          79,
          79,
          79,
          79,
          79,
          79,
          78,
          78,
          78,
          77,
          77,
          77,
          76,
          76,
          76,
          76,
          75,
          75,
          74,
          74,
          74,
          74,
          74,
          73,
          73,
          73,
          73,
          73,
          73,
          72,
          72,
          72,
          72,
          71,
          71,
          70,
          70,
          70,
          70,
          70,
          69,
          69,
          69,
          69,
          69,
          68,
          68,
          68,
          68,
          68,
          68,
          68,
          68,
          67,
          67,
          67,
          66,
          66,
          66,
          66,
          66,
          65,
          64,
          64,
          64,
          64,
          64,
          64,
          64,
          64,
          64,
          64,
          64,
          63,
          63,
          63,
          63,
          63,
          62,
          62,
          62,
          62,
          62,
          61,
          61,
          61,
          61,
          61,
          61,
          61,
          61,
          61,
          61,
          61,
          60,
          60,
          60,
          60,
          60,
          60,
          60,
          60,
          60,
          60,
          59,
          59,
          59,
          59,
          59,
          59,
          59,
          59,
          58,
          58,
          58,
          58,
          58,
          58,
          58,
          57,
          57,
          57,
          57,
          57,
          57,
          57,
          57,
          56,
          56,
          56,
          56,
          56,
          56,
          56,
          56,
          55,
          55,
          55,
          55,
          55,
          55,
          55,
          55,
          55,
          55,
          55,
          54,
          54,
          54,
          54,
          54,
          54,
          54,
          53,
          53,
          53,
          53,
          53,
          53,
          53,
          53,
          53,
          53,
          53,
          53,
          53,
          53,
          53,
          52,
          52,
          52,
          52,
          52,
          52,
          52,
          52,
          52,
          51,
          51,
          51,
          51,
          51,
          51,
          51,
          51,
          51,
          51,
          51,
          51,
          51,
          51,
          51,
          51,
          51,
          51,
          51,
          51
         ],
         "yaxis": "y"
        }
       ],
       "layout": {
        "legend": {
         "tracegroupgap": 0
        },
        "margin": {
         "t": 60
        },
        "template": {
         "data": {
          "bar": [
           {
            "error_x": {
             "color": "#2a3f5f"
            },
            "error_y": {
             "color": "#2a3f5f"
            },
            "marker": {
             "line": {
              "color": "#E5ECF6",
              "width": 0.5
             }
            },
            "type": "bar"
           }
          ],
          "barpolar": [
           {
            "marker": {
             "line": {
              "color": "#E5ECF6",
              "width": 0.5
             }
            },
            "type": "barpolar"
           }
          ],
          "carpet": [
           {
            "aaxis": {
             "endlinecolor": "#2a3f5f",
             "gridcolor": "white",
             "linecolor": "white",
             "minorgridcolor": "white",
             "startlinecolor": "#2a3f5f"
            },
            "baxis": {
             "endlinecolor": "#2a3f5f",
             "gridcolor": "white",
             "linecolor": "white",
             "minorgridcolor": "white",
             "startlinecolor": "#2a3f5f"
            },
            "type": "carpet"
           }
          ],
          "choropleth": [
           {
            "colorbar": {
             "outlinewidth": 0,
             "ticks": ""
            },
            "type": "choropleth"
           }
          ],
          "contour": [
           {
            "colorbar": {
             "outlinewidth": 0,
             "ticks": ""
            },
            "colorscale": [
             [
              0,
              "#0d0887"
             ],
             [
              0.1111111111111111,
              "#46039f"
             ],
             [
              0.2222222222222222,
              "#7201a8"
             ],
             [
              0.3333333333333333,
              "#9c179e"
             ],
             [
              0.4444444444444444,
              "#bd3786"
             ],
             [
              0.5555555555555556,
              "#d8576b"
             ],
             [
              0.6666666666666666,
              "#ed7953"
             ],
             [
              0.7777777777777778,
              "#fb9f3a"
             ],
             [
              0.8888888888888888,
              "#fdca26"
             ],
             [
              1,
              "#f0f921"
             ]
            ],
            "type": "contour"
           }
          ],
          "contourcarpet": [
           {
            "colorbar": {
             "outlinewidth": 0,
             "ticks": ""
            },
            "type": "contourcarpet"
           }
          ],
          "heatmap": [
           {
            "colorbar": {
             "outlinewidth": 0,
             "ticks": ""
            },
            "colorscale": [
             [
              0,
              "#0d0887"
             ],
             [
              0.1111111111111111,
              "#46039f"
             ],
             [
              0.2222222222222222,
              "#7201a8"
             ],
             [
              0.3333333333333333,
              "#9c179e"
             ],
             [
              0.4444444444444444,
              "#bd3786"
             ],
             [
              0.5555555555555556,
              "#d8576b"
             ],
             [
              0.6666666666666666,
              "#ed7953"
             ],
             [
              0.7777777777777778,
              "#fb9f3a"
             ],
             [
              0.8888888888888888,
              "#fdca26"
             ],
             [
              1,
              "#f0f921"
             ]
            ],
            "type": "heatmap"
           }
          ],
          "heatmapgl": [
           {
            "colorbar": {
             "outlinewidth": 0,
             "ticks": ""
            },
            "colorscale": [
             [
              0,
              "#0d0887"
             ],
             [
              0.1111111111111111,
              "#46039f"
             ],
             [
              0.2222222222222222,
              "#7201a8"
             ],
             [
              0.3333333333333333,
              "#9c179e"
             ],
             [
              0.4444444444444444,
              "#bd3786"
             ],
             [
              0.5555555555555556,
              "#d8576b"
             ],
             [
              0.6666666666666666,
              "#ed7953"
             ],
             [
              0.7777777777777778,
              "#fb9f3a"
             ],
             [
              0.8888888888888888,
              "#fdca26"
             ],
             [
              1,
              "#f0f921"
             ]
            ],
            "type": "heatmapgl"
           }
          ],
          "histogram": [
           {
            "marker": {
             "colorbar": {
              "outlinewidth": 0,
              "ticks": ""
             }
            },
            "type": "histogram"
           }
          ],
          "histogram2d": [
           {
            "colorbar": {
             "outlinewidth": 0,
             "ticks": ""
            },
            "colorscale": [
             [
              0,
              "#0d0887"
             ],
             [
              0.1111111111111111,
              "#46039f"
             ],
             [
              0.2222222222222222,
              "#7201a8"
             ],
             [
              0.3333333333333333,
              "#9c179e"
             ],
             [
              0.4444444444444444,
              "#bd3786"
             ],
             [
              0.5555555555555556,
              "#d8576b"
             ],
             [
              0.6666666666666666,
              "#ed7953"
             ],
             [
              0.7777777777777778,
              "#fb9f3a"
             ],
             [
              0.8888888888888888,
              "#fdca26"
             ],
             [
              1,
              "#f0f921"
             ]
            ],
            "type": "histogram2d"
           }
          ],
          "histogram2dcontour": [
           {
            "colorbar": {
             "outlinewidth": 0,
             "ticks": ""
            },
            "colorscale": [
             [
              0,
              "#0d0887"
             ],
             [
              0.1111111111111111,
              "#46039f"
             ],
             [
              0.2222222222222222,
              "#7201a8"
             ],
             [
              0.3333333333333333,
              "#9c179e"
             ],
             [
              0.4444444444444444,
              "#bd3786"
             ],
             [
              0.5555555555555556,
              "#d8576b"
             ],
             [
              0.6666666666666666,
              "#ed7953"
             ],
             [
              0.7777777777777778,
              "#fb9f3a"
             ],
             [
              0.8888888888888888,
              "#fdca26"
             ],
             [
              1,
              "#f0f921"
             ]
            ],
            "type": "histogram2dcontour"
           }
          ],
          "mesh3d": [
           {
            "colorbar": {
             "outlinewidth": 0,
             "ticks": ""
            },
            "type": "mesh3d"
           }
          ],
          "parcoords": [
           {
            "line": {
             "colorbar": {
              "outlinewidth": 0,
              "ticks": ""
             }
            },
            "type": "parcoords"
           }
          ],
          "pie": [
           {
            "automargin": true,
            "type": "pie"
           }
          ],
          "scatter": [
           {
            "marker": {
             "colorbar": {
              "outlinewidth": 0,
              "ticks": ""
             }
            },
            "type": "scatter"
           }
          ],
          "scatter3d": [
           {
            "line": {
             "colorbar": {
              "outlinewidth": 0,
              "ticks": ""
             }
            },
            "marker": {
             "colorbar": {
              "outlinewidth": 0,
              "ticks": ""
             }
            },
            "type": "scatter3d"
           }
          ],
          "scattercarpet": [
           {
            "marker": {
             "colorbar": {
              "outlinewidth": 0,
              "ticks": ""
             }
            },
            "type": "scattercarpet"
           }
          ],
          "scattergeo": [
           {
            "marker": {
             "colorbar": {
              "outlinewidth": 0,
              "ticks": ""
             }
            },
            "type": "scattergeo"
           }
          ],
          "scattergl": [
           {
            "marker": {
             "colorbar": {
              "outlinewidth": 0,
              "ticks": ""
             }
            },
            "type": "scattergl"
           }
          ],
          "scattermapbox": [
           {
            "marker": {
             "colorbar": {
              "outlinewidth": 0,
              "ticks": ""
             }
            },
            "type": "scattermapbox"
           }
          ],
          "scatterpolar": [
           {
            "marker": {
             "colorbar": {
              "outlinewidth": 0,
              "ticks": ""
             }
            },
            "type": "scatterpolar"
           }
          ],
          "scatterpolargl": [
           {
            "marker": {
             "colorbar": {
              "outlinewidth": 0,
              "ticks": ""
             }
            },
            "type": "scatterpolargl"
           }
          ],
          "scatterternary": [
           {
            "marker": {
             "colorbar": {
              "outlinewidth": 0,
              "ticks": ""
             }
            },
            "type": "scatterternary"
           }
          ],
          "surface": [
           {
            "colorbar": {
             "outlinewidth": 0,
             "ticks": ""
            },
            "colorscale": [
             [
              0,
              "#0d0887"
             ],
             [
              0.1111111111111111,
              "#46039f"
             ],
             [
              0.2222222222222222,
              "#7201a8"
             ],
             [
              0.3333333333333333,
              "#9c179e"
             ],
             [
              0.4444444444444444,
              "#bd3786"
             ],
             [
              0.5555555555555556,
              "#d8576b"
             ],
             [
              0.6666666666666666,
              "#ed7953"
             ],
             [
              0.7777777777777778,
              "#fb9f3a"
             ],
             [
              0.8888888888888888,
              "#fdca26"
             ],
             [
              1,
              "#f0f921"
             ]
            ],
            "type": "surface"
           }
          ],
          "table": [
           {
            "cells": {
             "fill": {
              "color": "#EBF0F8"
             },
             "line": {
              "color": "white"
             }
            },
            "header": {
             "fill": {
              "color": "#C8D4E3"
             },
             "line": {
              "color": "white"
             }
            },
            "type": "table"
           }
          ]
         },
         "layout": {
          "annotationdefaults": {
           "arrowcolor": "#2a3f5f",
           "arrowhead": 0,
           "arrowwidth": 1
          },
          "coloraxis": {
           "colorbar": {
            "outlinewidth": 0,
            "ticks": ""
           }
          },
          "colorscale": {
           "diverging": [
            [
             0,
             "#8e0152"
            ],
            [
             0.1,
             "#c51b7d"
            ],
            [
             0.2,
             "#de77ae"
            ],
            [
             0.3,
             "#f1b6da"
            ],
            [
             0.4,
             "#fde0ef"
            ],
            [
             0.5,
             "#f7f7f7"
            ],
            [
             0.6,
             "#e6f5d0"
            ],
            [
             0.7,
             "#b8e186"
            ],
            [
             0.8,
             "#7fbc41"
            ],
            [
             0.9,
             "#4d9221"
            ],
            [
             1,
             "#276419"
            ]
           ],
           "sequential": [
            [
             0,
             "#0d0887"
            ],
            [
             0.1111111111111111,
             "#46039f"
            ],
            [
             0.2222222222222222,
             "#7201a8"
            ],
            [
             0.3333333333333333,
             "#9c179e"
            ],
            [
             0.4444444444444444,
             "#bd3786"
            ],
            [
             0.5555555555555556,
             "#d8576b"
            ],
            [
             0.6666666666666666,
             "#ed7953"
            ],
            [
             0.7777777777777778,
             "#fb9f3a"
            ],
            [
             0.8888888888888888,
             "#fdca26"
            ],
            [
             1,
             "#f0f921"
            ]
           ],
           "sequentialminus": [
            [
             0,
             "#0d0887"
            ],
            [
             0.1111111111111111,
             "#46039f"
            ],
            [
             0.2222222222222222,
             "#7201a8"
            ],
            [
             0.3333333333333333,
             "#9c179e"
            ],
            [
             0.4444444444444444,
             "#bd3786"
            ],
            [
             0.5555555555555556,
             "#d8576b"
            ],
            [
             0.6666666666666666,
             "#ed7953"
            ],
            [
             0.7777777777777778,
             "#fb9f3a"
            ],
            [
             0.8888888888888888,
             "#fdca26"
            ],
            [
             1,
             "#f0f921"
            ]
           ]
          },
          "colorway": [
           "#636efa",
           "#EF553B",
           "#00cc96",
           "#ab63fa",
           "#FFA15A",
           "#19d3f3",
           "#FF6692",
           "#B6E880",
           "#FF97FF",
           "#FECB52"
          ],
          "font": {
           "color": "#2a3f5f"
          },
          "geo": {
           "bgcolor": "white",
           "lakecolor": "white",
           "landcolor": "#E5ECF6",
           "showlakes": true,
           "showland": true,
           "subunitcolor": "white"
          },
          "hoverlabel": {
           "align": "left"
          },
          "hovermode": "closest",
          "mapbox": {
           "style": "light"
          },
          "paper_bgcolor": "white",
          "plot_bgcolor": "#E5ECF6",
          "polar": {
           "angularaxis": {
            "gridcolor": "white",
            "linecolor": "white",
            "ticks": ""
           },
           "bgcolor": "#E5ECF6",
           "radialaxis": {
            "gridcolor": "white",
            "linecolor": "white",
            "ticks": ""
           }
          },
          "scene": {
           "xaxis": {
            "backgroundcolor": "#E5ECF6",
            "gridcolor": "white",
            "gridwidth": 2,
            "linecolor": "white",
            "showbackground": true,
            "ticks": "",
            "zerolinecolor": "white"
           },
           "yaxis": {
            "backgroundcolor": "#E5ECF6",
            "gridcolor": "white",
            "gridwidth": 2,
            "linecolor": "white",
            "showbackground": true,
            "ticks": "",
            "zerolinecolor": "white"
           },
           "zaxis": {
            "backgroundcolor": "#E5ECF6",
            "gridcolor": "white",
            "gridwidth": 2,
            "linecolor": "white",
            "showbackground": true,
            "ticks": "",
            "zerolinecolor": "white"
           }
          },
          "shapedefaults": {
           "line": {
            "color": "#2a3f5f"
           }
          },
          "ternary": {
           "aaxis": {
            "gridcolor": "white",
            "linecolor": "white",
            "ticks": ""
           },
           "baxis": {
            "gridcolor": "white",
            "linecolor": "white",
            "ticks": ""
           },
           "bgcolor": "#E5ECF6",
           "caxis": {
            "gridcolor": "white",
            "linecolor": "white",
            "ticks": ""
           }
          },
          "title": {
           "x": 0.05
          },
          "xaxis": {
           "automargin": true,
           "gridcolor": "white",
           "linecolor": "white",
           "ticks": "",
           "title": {
            "standoff": 15
           },
           "zerolinecolor": "white",
           "zerolinewidth": 2
          },
          "yaxis": {
           "automargin": true,
           "gridcolor": "white",
           "linecolor": "white",
           "ticks": "",
           "title": {
            "standoff": 15
           },
           "zerolinecolor": "white",
           "zerolinewidth": 2
          }
         }
        },
        "xaxis": {
         "anchor": "y",
         "domain": [
          0,
          1
         ],
         "title": {
          "text": "Character Names"
         }
        },
        "yaxis": {
         "anchor": "x",
         "domain": [
          0,
          1
         ],
         "title": {
          "text": "Number of Occurrences"
         },
         "type": "log"
        }
       }
      },
      "text/html": [
       "<div>                            <div id=\"8071004e-b717-41e4-91cc-261842111914\" class=\"plotly-graph-div\" style=\"height:525px; width:100%;\"></div>            <script type=\"text/javascript\">                require([\"plotly\"], function(Plotly) {                    window.PLOTLYENV=window.PLOTLYENV || {};                                    if (document.getElementById(\"8071004e-b717-41e4-91cc-261842111914\")) {                    Plotly.newPlot(                        \"8071004e-b717-41e4-91cc-261842111914\",                        [{\"hovertemplate\": \"Character Names=%{x}<br>Number of Occurrences=%{y}<extra></extra>\", \"legendgroup\": \"\", \"marker\": {\"color\": \"#636efa\", \"symbol\": \"circle\"}, \"mode\": \"markers\", \"name\": \"\", \"orientation\": \"v\", \"showlegend\": false, \"type\": \"scatter\", \"x\": [\"[\\\"Self\\\"]\", \"[\\\"Anna\\\"]\", \"[\\\"Alex\\\"]\", \"[\\\"David\\\"]\", \"[\\\"Sam\\\"]\", \"[\\\"Maria\\\"]\", \"[\\\"Paul\\\"]\", \"[\\\"Jack\\\"]\", \"[\\\"Sarah\\\"]\", \"[\\\"John\\\"]\", \"[\\\"Laura\\\"]\", \"[\\\"Frank\\\"]\", \"[\\\"Max\\\"]\", \"[\\\"Michael\\\"]\", \"[\\\"Tom\\\"]\", \"[\\\"Mike\\\"]\", \"[\\\"Mother\\\"]\", \"[\\\"Mary\\\"]\", \"[\\\"Alice\\\"]\", \"[\\\"Peter\\\"]\", \"[\\\"Ben\\\"]\", \"[\\\"Joe\\\"]\", \"[\\\"Sara\\\"]\", \"[\\\"Marie\\\"]\", \"[\\\"Charlie\\\"]\", \"[\\\"Daniel\\\"]\", \"[\\\"Lisa\\\"]\", \"[\\\"Tony\\\"]\", \"[\\\"Kate\\\"]\", \"[\\\"Mark\\\"]\", \"[\\\"Julia\\\"]\", \"[\\\"Nick\\\"]\", \"[\\\"Chris\\\"]\", \"[\\\"Father\\\"]\", \"[\\\"Simon\\\"]\", \"[\\\"Martin\\\"]\", \"[\\\"Eva\\\"]\", \"[\\\"Ana\\\"]\", \"[\\\"Rachel\\\"]\", \"[\\\"Claire\\\"]\", \"[\\\"Julie\\\"]\", \"[\\\"Adam\\\"]\", \"[\\\"Thomas\\\"]\", \"[\\\"Danny\\\"]\", \"[\\\"Steve\\\"]\", \"[\\\"Nina\\\"]\", \"[\\\"James\\\"]\", \"[\\\"Robert\\\"]\", \"[\\\"Jenny\\\"]\", \"[\\\"Jake\\\"]\", \"[\\\"Jim\\\"]\", \"[\\\"Narrator\\\"]\", \"[\\\"Harry\\\"]\", \"[\\\"Jimmy\\\"]\", \"[\\\"George\\\"]\", \"[\\\"Bill\\\"]\", \"[\\\"Emma\\\"]\", \"[\\\"Jane\\\"]\", \"[\\\"Richard\\\"]\", \"[\\\"Karen\\\"]\", \"[\\\"Ali\\\"]\", \"[\\\"Johnny\\\"]\", \"[\\\"Sophie\\\"]\", \"[\\\"Linda\\\"]\", \"[\\\"Eric\\\"]\", \"[\\\"Rita\\\"]\", \"[\\\"Helen\\\"]\", \"[\\\"Susan\\\"]\", \"[\\\"Lucy\\\"]\", \"[\\\"Anne\\\"]\", \"[\\\"Eddie\\\"]\", \"[\\\"Sandra\\\"]\", \"[\\\"Rose\\\"]\", \"[\\\"Annie\\\"]\", \"[\\\"Doctor\\\"]\", \"[\\\"Billy\\\"]\", \"[\\\"Jessica\\\"]\", \"[\\\"Angela\\\"]\", \"[\\\"Matt\\\"]\", \"[\\\"Victor\\\"]\", \"[\\\"Maggie\\\"]\", \"[\\\"Tommy\\\"]\", \"[\\\"Amy\\\"]\", \"[\\\"Beth\\\"]\", \"[\\\"Bobby\\\"]\", \"[\\\"Jennifer\\\"]\", \"[\\\"Leo\\\"]\", \"[\\\"Jean\\\"]\", \"[\\\"Carlos\\\"]\", \"[\\\"Emily\\\"]\", \"[\\\"Antonio\\\"]\", \"[\\\"Henry\\\"]\", \"[\\\"Jason\\\"]\", \"[\\\"Elizabeth\\\"]\", \"[\\\"Marta\\\"]\", \"[\\\"Barbara\\\"]\", \"[\\\"Dave\\\"]\", \"[\\\"Clara\\\"]\", \"[\\\"Jeff\\\"]\", \"[\\\"Bruno\\\"]\", \"[\\\"Tina\\\"]\", \"[\\\"Charlotte\\\"]\", \"[\\\"Elena\\\"]\", \"[\\\"Andrea\\\"]\", \"[\\\"Carmen\\\"]\", \"[\\\"Dan\\\"]\", \"[\\\"Christine\\\"]\", \"[\\\"Kevin\\\"]\", \"[\\\"Kim\\\"]\", \"[\\\"Bob\\\"]\", \"[\\\"Charles\\\"]\", \"[\\\"Louise\\\"]\", \"[\\\"Ray\\\"]\", \"[\\\"Marco\\\"]\", \"[\\\"Pierre\\\"]\", \"[\\\"Amanda\\\"]\", \"[\\\"Lola\\\"]\", \"[\\\"Vincent\\\"]\", \"[\\\"Brian\\\"]\", \"[\\\"Molly\\\"]\", \"[\\\"Vera\\\"]\", \"[\\\"Andy\\\"]\", \"[\\\"Rosa\\\"]\", \"[\\\"Catherine\\\"]\", \"[\\\"Luke\\\"]\", \"[\\\"Sally\\\"]\", \"[\\\"Mario\\\"]\", \"[\\\"Kelly\\\"]\", \"[\\\"Tim\\\"]\", \"[\\\"Lena\\\"]\", \"[\\\"Michelle\\\"]\", \"[\\\"Grace\\\"]\", \"[\\\"Lily\\\"]\", \"[\\\"Ivan\\\"]\", \"[\\\"Nancy\\\"]\", \"[\\\"Nicole\\\"]\", \"[\\\"Fred\\\"]\", \"[\\\"Pete\\\"]\", \"[\\\"Gabriel\\\"]\", \"[\\\"Rebecca\\\"]\", \"[\\\"Josh\\\"]\", \"[\\\"Samantha\\\"]\", \"[\\\"Maya\\\"]\", \"[\\\"Miguel\\\"]\", \"[\\\"Jerry\\\"]\", \"[\\\"Katie\\\"]\", \"[\\\"Rick\\\"]\", \"[\\\"Larry\\\"]\", \"[\\\"Phil\\\"]\", \"[\\\"Ryan\\\"]\", \"[\\\"Patrick\\\"]\", \"[\\\"Carla\\\"]\", \"[\\\"Carl\\\"]\", \"[\\\"Diana\\\"]\", \"[\\\"Marina\\\"]\", \"[\\\"Albert\\\"]\", \"[\\\"Chloe\\\"]\", \"[\\\"Sonia\\\"]\", \"[\\\"Joseph\\\"]\", \"[\\\"Marcus\\\"]\", \"[\\\"Irene\\\"]\", \"[\\\"Walter\\\"]\", \"[\\\"Teresa\\\"]\", \"[\\\"Gloria\\\"]\", \"[\\\"Carol\\\"]\", \"[\\\"Olga\\\"]\", \"[\\\"Pedro\\\"]\", \"[\\\"Sean\\\"]\", \"[\\\"Jamie\\\"]\", \"[\\\"Jesse\\\"]\", \"[\\\"Hannah\\\"]\", \"[\\\"Monica\\\"]\", \"[\\\"Jeanne\\\"]\", \"[\\\"Mia\\\"]\", \"[\\\"Will\\\"]\", \"[\\\"Stella\\\"]\", \"[\\\"Frankie\\\"]\", \"[\\\"Joey\\\"]\", \"[\\\"Juan\\\"]\", \"[\\\"Ruth\\\"]\", \"[\\\"Jackie\\\"]\", \"[\\\"Roger\\\"]\", \"[\\\"Mona\\\"]\", \"[\\\"Betty\\\"]\", \"[\\\"Scott\\\"]\", \"[\\\"Paula\\\"]\", \"[\\\"Isabel\\\"]\", \"[\\\"Jacob\\\"]\", \"[\\\"Gina\\\"]\", \"[\\\"Angel\\\"]\", \"[\\\"Priya\\\"]\", \"[\\\"Claudia\\\"]\", \"[\\\"Liz\\\"]\", \"[\\\"Lucas\\\"]\", \"[\\\"Marianne\\\"]\", \"[\\\"Kyle\\\"]\", \"[\\\"Jill\\\"]\", \"[\\\"Margaret\\\"]\", \"[\\\"Marc\\\"]\", \"[\\\"Anita\\\"]\", \"[\\\"Cindy\\\"]\", \"[\\\"Antoine\\\"]\", \"[\\\"Jonathan\\\"]\", \"[\\\"Arthur\\\"]\", \"[\\\"Terry\\\"]\", \"[\\\"Nora\\\"]\", \"[\\\"Diane\\\"]\", \"[\\\"Caroline\\\"]\", \"[\\\"Louis\\\"]\", \"[\\\"Alan\\\"]\", \"[\\\"Diego\\\"]\", \"[\\\"Doug\\\"]\", \"[\\\"William\\\"]\", \"[\\\"Andrew\\\"]\", \"[\\\"Jay\\\"]\", \"[\\\"Jan\\\"]\", \"[\\\"Stan\\\"]\", \"[\\\"Natalie\\\"]\", \"[\\\"Gary\\\"]\", \"[\\\"Ashley\\\"]\", \"[\\\"Ed\\\"]\", \"[\\\"Victoria\\\"]\", \"[\\\"Isabelle\\\"]\", \"[\\\"Eve\\\"]\", \"[\\\"Sofia\\\"]\", \"[\\\"Benny\\\"]\", \"[\\\"May\\\"]\", \"[\\\"Sandy\\\"]\", \"[\\\"Veronica\\\"]\", \"[\\\"Mar\\u00eda\\\"]\", \"[\\\"Christian\\\"]\", \"[\\\"Zoe\\\"]\", \"[\\\"Olivia\\\"]\", \"[\\\"Priest\\\"]\", \"[\\\"Ann\\\"]\", \"[\\\"Tyler\\\"]\", \"[\\\"Toni\\\"]\", \"[\\\"Helena\\\"]\", \"[\\\"Ellen\\\"]\", \"[\\\"Luis\\\"]\", \"[\\\"Alicia\\\"]\", \"[\\\"Martha\\\"]\", \"[\\\"Greg\\\"]\", \"[\\\"Silvia\\\"]\", \"[\\\"Roy\\\"]\", \"[\\\"Ted\\\"]\", \"[\\\"Aaron\\\"]\", \"[\\\"Vicky\\\"]\", \"[\\\"Roberto\\\"]\", \"[\\\"Brad\\\"]\", \"[\\\"Julian\\\"]\", \"[\\\"Jess\\\"]\", \"[\\\"Lou\\\"]\", \"[\\\"Sasha\\\"]\", \"[\\\"The Man\\\"]\", \"[\\\"Sylvia\\\"]\", \"[\\\"Samuel\\\"]\", \"[\\\"Girl\\\"]\", \"[\\\"Erik\\\"]\", \"[\\\"Nathan\\\"]\", \"[\\\"Hank\\\"]\", \"[\\\"Nurse\\\"]\", \"[\\\"Vanessa\\\"]\", \"[\\\"Camille\\\"]\", \"[\\\"Jacques\\\"]\", \"[\\\"Karl\\\"]\", \"[\\\"Francesca\\\"]\", \"[\\\"Michel\\\"]\", \"[\\\"Ronnie\\\"]\", \"[\\\"Ken\\\"]\", \"[\\\"Oscar\\\"]\", \"[\\\"Manuel\\\"]\", \"[\\\"Stephanie\\\"]\", \"[\\\"Natasha\\\"]\", \"[\\\"Pablo\\\"]\", \"[\\\"Justin\\\"]\", \"[\\\"The Girl\\\"]\", \"[\\\"Fran\\u00e7ois\\\"]\", \"[\\\"Rob\\\"]\", \"[\\\"Wendy\\\"]\", \"[\\\"Man\\\"]\", \"[\\\"Ethan\\\"]\", \"[\\\"Mom\\\"]\", \"[\\\"Lee\\\"]\", \"[\\\"Dennis\\\"]\", \"[\\\"Raja\\\"]\", \"[\\\"Mitch\\\"]\", \"[\\\"Philippe\\\"]\", \"[\\\"Dana\\\"]\", \"[\\\"Denise\\\"]\", \"[\\\"Dean\\\"]\", \"[\\\"Nadia\\\"]\", \"[\\\"Marion\\\"]\", \"[\\\"Leon\\\"]\", \"[\\\"Dad\\\"]\", \"[\\\"Ian\\\"]\", \"[\\\"Jo\\\"]\", \"[\\\"Gus\\\"]\", \"[\\\"Iris\\\"]\", \"[\\\"Katya\\\"]\", \"[\\\"Tanya\\\"]\", \"[\\\"Lucia\\\"]\", \"[\\\"Lauren\\\"]\", \"[\\\"Pooja\\\"]\", \"[\\\"Additional Voices\\\"]\", \"[\\\"Professor\\\"]\", \"[\\\"Jonas\\\"]\", \"[\\\"H\\u00e9l\\u00e8ne\\\"]\", \"[\\\"Carlo\\\"]\", \"[\\\"Judy\\\"]\", \"[\\\"Daisy\\\"]\", \"[\\\"Melanie\\\"]\", \"[\\\"Abby\\\"]\", \"[\\\"Tara\\\"]\", \"[\\\"Angie\\\"]\", \"[\\\"Tracy\\\"]\", \"[\\\"Sebastian\\\"]\", \"[\\\"Anthony\\\"]\", \"[\\\"Katherine\\\"]\", \"[\\\"Hugo\\\"]\", \"[\\\"Hans\\\"]\", \"[\\\"Robin\\\"]\", \"[\\\"Jorge\\\"]\", \"[\\\"Juliette\\\"]\", \"[\\\"Guy\\\"]\", \"[\\\"Derek\\\"]\", \"[\\\"Ricky\\\"]\", \"[\\\"Bruce\\\"]\", \"[\\\"Jessie\\\"]\", \"[\\\"Heather\\\"]\", \"[\\\"Mara\\\"]\", \"[\\\"Stefan\\\"]\", \"[\\\"Janet\\\"]\", \"[\\\"Fernando\\\"]\", \"[\\\"Dylan\\\"]\", \"[\\\"Morgan\\\"]\", \"[\\\"Mickey\\\"]\", \"[\\\"Donna\\\"]\", \"[\\\"Chuck\\\"]\", \"[\\\"Nikki\\\"]\", \"[\\\"Sue\\\"]\", \"[\\\"Kathy\\\"]\", \"[\\\"Esther\\\"]\", \"[\\\"Patricia\\\"]\", \"[\\\"Steven\\\"]\", \"[\\\"Woman\\\"]\", \"[\\\"Mimi\\\"]\", \"[\\\"Simone\\\"]\", \"[\\\"Travis\\\"]\", \"[\\\"Paolo\\\"]\", \"[\\\"Felix\\\"]\", \"[\\\"Grandfather\\\"]\", \"[\\\"Becky\\\"]\", \"[\\\"Cathy\\\"]\", \"[\\\"Giovanni\\\"]\", \"[\\\"Luc\\u00eda\\\"]\", \"[\\\"Megan\\\"]\", \"[\\\"Police Officer\\\"]\", \"[\\\"Francis\\\"]\", \"[\\\"Barry\\\"]\", \"[\\\"Alberto\\\"]\", \"[\\\"Ralph\\\"]\", \"[\\\"April\\\"]\", \"[\\\"Roman\\\"]\", \"[\\\"Elsa\\\"]\", \"[\\\"Hanna\\\"]\", \"[\\\"Anton\\\"]\", \"[\\\"Marty\\\"]\", \"[\\\"Omar\\\"]\", \"[\\\"Hopalong Cassidy\\\"]\", \"[\\\"Manu\\\"]\", \"[\\\"Ruby\\\"]\", \"[\\\"Magda\\\"]\", \"[\\\"Liza\\\"]\", \"[\\\"Viktor\\\"]\", \"[\\\"Doris\\\"]\", \"[\\\"Grandmother\\\"]\", \"[\\\"Stephen\\\"]\", \"[\\\"Jordan\\\"]\", \"[\\\"Oliver\\\"]\", \"[\\\"Taylor\\\"]\", \"[\\\"Philip\\\"]\", \"[\\\"Miranda\\\"]\", \"[\\\"Boris\\\"]\", \"[\\\"Jon\\\"]\", \"[\\\"Willy\\\"]\", \"[\\\"Amber\\\"]\", \"[\\\"Radha\\\"]\", \"[\\\"Ellie\\\"]\", \"[\\\"Julien\\\"]\", \"[\\\"Connie\\\"]\", \"[\\\"Mariana\\\"]\", \"[\\\"Todd\\\"]\", \"[\\\"Kat\\\"]\", \"[\\\"Greta\\\"]\", \"[\\\"Jeremy\\\"]\", \"[\\\"Carter\\\"]\", \"[\\\"Al\\\"]\", \"[\\\"Marcos\\\"]\", \"[\\\"Anjali\\\"]\", \"[\\\"Claude\\\"]\", \"[\\\"Leila\\\"]\", \"[\\\"Rosie\\\"]\", \"[\\\"Cynthia\\\"]\", \"[\\\"Sunny\\\"]\", \"[\\\"Jesus\\\"]\", \"[\\\"Keith\\\"]\", \"[\\\"Theo\\\"]\", \"[\\\"Suzanne\\\"]\", \"[\\\"Valerie\\\"]\", \"[\\\"Fran\\u00e7oise\\\"]\", \"[\\\"Vince\\\"]\", \"[\\\"Carrie\\\"]\", \"[\\\"Brandon\\\"]\", \"[\\\"Jen\\\"]\", \"[\\\"Judith\\\"]\", \"[\\\"Lina\\\"]\", \"[\\\"Mason\\\"]\", \"[\\\"Elaine\\\"]\", \"[\\\"Sheila\\\"]\", \"[\\\"Doc\\\"]\", \"[\\\"Pat\\\"]\"], \"xaxis\": \"x\", \"y\": [720, 539, 460, 455, 415, 408, 404, 401, 372, 359, 342, 333, 333, 316, 306, 301, 295, 293, 292, 281, 270, 267, 266, 261, 261, 259, 257, 253, 249, 245, 239, 231, 230, 229, 225, 225, 225, 221, 220, 219, 215, 214, 206, 201, 198, 197, 196, 195, 191, 182, 182, 182, 180, 179, 179, 176, 176, 175, 174, 173, 173, 172, 170, 170, 166, 166, 165, 164, 161, 161, 161, 157, 157, 157, 155, 151, 150, 150, 149, 149, 148, 148, 148, 148, 147, 147, 146, 146, 145, 143, 142, 142, 139, 138, 138, 138, 137, 137, 136, 136, 135, 135, 135, 134, 134, 133, 133, 132, 132, 132, 131, 130, 129, 128, 128, 128, 128, 128, 127, 127, 126, 126, 124, 122, 122, 121, 121, 121, 121, 121, 121, 120, 119, 119, 118, 118, 116, 114, 114, 114, 114, 114, 114, 112, 111, 109, 109, 108, 108, 108, 107, 107, 106, 106, 105, 105, 105, 104, 104, 104, 103, 103, 103, 102, 102, 101, 100, 100, 99, 98, 98, 98, 97, 97, 97, 96, 96, 96, 96, 95, 94, 94, 93, 93, 93, 91, 91, 91, 91, 91, 90, 90, 90, 89, 89, 89, 88, 88, 87, 87, 86, 86, 86, 85, 85, 85, 84, 84, 83, 83, 82, 82, 82, 82, 82, 82, 81, 81, 81, 81, 81, 81, 80, 80, 80, 79, 79, 79, 79, 79, 79, 78, 78, 78, 77, 77, 77, 76, 76, 76, 76, 75, 75, 74, 74, 74, 74, 74, 73, 73, 73, 73, 73, 73, 72, 72, 72, 72, 71, 71, 70, 70, 70, 70, 70, 69, 69, 69, 69, 69, 68, 68, 68, 68, 68, 68, 68, 68, 67, 67, 67, 66, 66, 66, 66, 66, 65, 64, 64, 64, 64, 64, 64, 64, 64, 64, 64, 64, 63, 63, 63, 63, 63, 62, 62, 62, 62, 62, 61, 61, 61, 61, 61, 61, 61, 61, 61, 61, 61, 60, 60, 60, 60, 60, 60, 60, 60, 60, 60, 59, 59, 59, 59, 59, 59, 59, 59, 58, 58, 58, 58, 58, 58, 58, 57, 57, 57, 57, 57, 57, 57, 57, 56, 56, 56, 56, 56, 56, 56, 56, 55, 55, 55, 55, 55, 55, 55, 55, 55, 55, 55, 54, 54, 54, 54, 54, 54, 54, 53, 53, 53, 53, 53, 53, 53, 53, 53, 53, 53, 53, 53, 53, 53, 52, 52, 52, 52, 52, 52, 52, 52, 52, 51, 51, 51, 51, 51, 51, 51, 51, 51, 51, 51, 51, 51, 51, 51, 51, 51, 51, 51, 51], \"yaxis\": \"y\"}],                        {\"legend\": {\"tracegroupgap\": 0}, \"margin\": {\"t\": 60}, \"template\": {\"data\": {\"bar\": [{\"error_x\": {\"color\": \"#2a3f5f\"}, \"error_y\": {\"color\": \"#2a3f5f\"}, \"marker\": {\"line\": {\"color\": \"#E5ECF6\", \"width\": 0.5}}, \"type\": \"bar\"}], \"barpolar\": [{\"marker\": {\"line\": {\"color\": \"#E5ECF6\", \"width\": 0.5}}, \"type\": \"barpolar\"}], \"carpet\": [{\"aaxis\": {\"endlinecolor\": \"#2a3f5f\", \"gridcolor\": \"white\", \"linecolor\": \"white\", \"minorgridcolor\": \"white\", \"startlinecolor\": \"#2a3f5f\"}, \"baxis\": {\"endlinecolor\": \"#2a3f5f\", \"gridcolor\": \"white\", \"linecolor\": \"white\", \"minorgridcolor\": \"white\", \"startlinecolor\": \"#2a3f5f\"}, \"type\": \"carpet\"}], \"choropleth\": [{\"colorbar\": {\"outlinewidth\": 0, \"ticks\": \"\"}, \"type\": \"choropleth\"}], \"contour\": [{\"colorbar\": {\"outlinewidth\": 0, \"ticks\": \"\"}, \"colorscale\": [[0.0, \"#0d0887\"], [0.1111111111111111, \"#46039f\"], [0.2222222222222222, \"#7201a8\"], [0.3333333333333333, \"#9c179e\"], [0.4444444444444444, \"#bd3786\"], [0.5555555555555556, \"#d8576b\"], [0.6666666666666666, \"#ed7953\"], [0.7777777777777778, \"#fb9f3a\"], [0.8888888888888888, \"#fdca26\"], [1.0, \"#f0f921\"]], \"type\": \"contour\"}], \"contourcarpet\": [{\"colorbar\": {\"outlinewidth\": 0, \"ticks\": \"\"}, \"type\": \"contourcarpet\"}], \"heatmap\": [{\"colorbar\": {\"outlinewidth\": 0, \"ticks\": \"\"}, \"colorscale\": [[0.0, \"#0d0887\"], [0.1111111111111111, \"#46039f\"], [0.2222222222222222, \"#7201a8\"], [0.3333333333333333, \"#9c179e\"], [0.4444444444444444, \"#bd3786\"], [0.5555555555555556, \"#d8576b\"], [0.6666666666666666, \"#ed7953\"], [0.7777777777777778, \"#fb9f3a\"], [0.8888888888888888, \"#fdca26\"], [1.0, \"#f0f921\"]], \"type\": \"heatmap\"}], \"heatmapgl\": [{\"colorbar\": {\"outlinewidth\": 0, \"ticks\": \"\"}, \"colorscale\": [[0.0, \"#0d0887\"], [0.1111111111111111, \"#46039f\"], [0.2222222222222222, \"#7201a8\"], [0.3333333333333333, \"#9c179e\"], [0.4444444444444444, \"#bd3786\"], [0.5555555555555556, \"#d8576b\"], [0.6666666666666666, \"#ed7953\"], [0.7777777777777778, \"#fb9f3a\"], [0.8888888888888888, \"#fdca26\"], [1.0, \"#f0f921\"]], \"type\": \"heatmapgl\"}], \"histogram\": [{\"marker\": {\"colorbar\": {\"outlinewidth\": 0, \"ticks\": \"\"}}, \"type\": \"histogram\"}], \"histogram2d\": [{\"colorbar\": {\"outlinewidth\": 0, \"ticks\": \"\"}, \"colorscale\": [[0.0, \"#0d0887\"], [0.1111111111111111, \"#46039f\"], [0.2222222222222222, \"#7201a8\"], [0.3333333333333333, \"#9c179e\"], [0.4444444444444444, \"#bd3786\"], [0.5555555555555556, \"#d8576b\"], [0.6666666666666666, \"#ed7953\"], [0.7777777777777778, \"#fb9f3a\"], [0.8888888888888888, \"#fdca26\"], [1.0, \"#f0f921\"]], \"type\": \"histogram2d\"}], \"histogram2dcontour\": [{\"colorbar\": {\"outlinewidth\": 0, \"ticks\": \"\"}, \"colorscale\": [[0.0, \"#0d0887\"], [0.1111111111111111, \"#46039f\"], [0.2222222222222222, \"#7201a8\"], [0.3333333333333333, \"#9c179e\"], [0.4444444444444444, \"#bd3786\"], [0.5555555555555556, \"#d8576b\"], [0.6666666666666666, \"#ed7953\"], [0.7777777777777778, \"#fb9f3a\"], [0.8888888888888888, \"#fdca26\"], [1.0, \"#f0f921\"]], \"type\": \"histogram2dcontour\"}], \"mesh3d\": [{\"colorbar\": {\"outlinewidth\": 0, \"ticks\": \"\"}, \"type\": \"mesh3d\"}], \"parcoords\": [{\"line\": {\"colorbar\": {\"outlinewidth\": 0, \"ticks\": \"\"}}, \"type\": \"parcoords\"}], \"pie\": [{\"automargin\": true, \"type\": \"pie\"}], \"scatter\": [{\"marker\": {\"colorbar\": {\"outlinewidth\": 0, \"ticks\": \"\"}}, \"type\": \"scatter\"}], \"scatter3d\": [{\"line\": {\"colorbar\": {\"outlinewidth\": 0, \"ticks\": \"\"}}, \"marker\": {\"colorbar\": {\"outlinewidth\": 0, \"ticks\": \"\"}}, \"type\": \"scatter3d\"}], \"scattercarpet\": [{\"marker\": {\"colorbar\": {\"outlinewidth\": 0, \"ticks\": \"\"}}, \"type\": \"scattercarpet\"}], \"scattergeo\": [{\"marker\": {\"colorbar\": {\"outlinewidth\": 0, \"ticks\": \"\"}}, \"type\": \"scattergeo\"}], \"scattergl\": [{\"marker\": {\"colorbar\": {\"outlinewidth\": 0, \"ticks\": \"\"}}, \"type\": \"scattergl\"}], \"scattermapbox\": [{\"marker\": {\"colorbar\": {\"outlinewidth\": 0, \"ticks\": \"\"}}, \"type\": \"scattermapbox\"}], \"scatterpolar\": [{\"marker\": {\"colorbar\": {\"outlinewidth\": 0, \"ticks\": \"\"}}, \"type\": \"scatterpolar\"}], \"scatterpolargl\": [{\"marker\": {\"colorbar\": {\"outlinewidth\": 0, \"ticks\": \"\"}}, \"type\": \"scatterpolargl\"}], \"scatterternary\": [{\"marker\": {\"colorbar\": {\"outlinewidth\": 0, \"ticks\": \"\"}}, \"type\": \"scatterternary\"}], \"surface\": [{\"colorbar\": {\"outlinewidth\": 0, \"ticks\": \"\"}, \"colorscale\": [[0.0, \"#0d0887\"], [0.1111111111111111, \"#46039f\"], [0.2222222222222222, \"#7201a8\"], [0.3333333333333333, \"#9c179e\"], [0.4444444444444444, \"#bd3786\"], [0.5555555555555556, \"#d8576b\"], [0.6666666666666666, \"#ed7953\"], [0.7777777777777778, \"#fb9f3a\"], [0.8888888888888888, \"#fdca26\"], [1.0, \"#f0f921\"]], \"type\": \"surface\"}], \"table\": [{\"cells\": {\"fill\": {\"color\": \"#EBF0F8\"}, \"line\": {\"color\": \"white\"}}, \"header\": {\"fill\": {\"color\": \"#C8D4E3\"}, \"line\": {\"color\": \"white\"}}, \"type\": \"table\"}]}, \"layout\": {\"annotationdefaults\": {\"arrowcolor\": \"#2a3f5f\", \"arrowhead\": 0, \"arrowwidth\": 1}, \"coloraxis\": {\"colorbar\": {\"outlinewidth\": 0, \"ticks\": \"\"}}, \"colorscale\": {\"diverging\": [[0, \"#8e0152\"], [0.1, \"#c51b7d\"], [0.2, \"#de77ae\"], [0.3, \"#f1b6da\"], [0.4, \"#fde0ef\"], [0.5, \"#f7f7f7\"], [0.6, \"#e6f5d0\"], [0.7, \"#b8e186\"], [0.8, \"#7fbc41\"], [0.9, \"#4d9221\"], [1, \"#276419\"]], \"sequential\": [[0.0, \"#0d0887\"], [0.1111111111111111, \"#46039f\"], [0.2222222222222222, \"#7201a8\"], [0.3333333333333333, \"#9c179e\"], [0.4444444444444444, \"#bd3786\"], [0.5555555555555556, \"#d8576b\"], [0.6666666666666666, \"#ed7953\"], [0.7777777777777778, \"#fb9f3a\"], [0.8888888888888888, \"#fdca26\"], [1.0, \"#f0f921\"]], \"sequentialminus\": [[0.0, \"#0d0887\"], [0.1111111111111111, \"#46039f\"], [0.2222222222222222, \"#7201a8\"], [0.3333333333333333, \"#9c179e\"], [0.4444444444444444, \"#bd3786\"], [0.5555555555555556, \"#d8576b\"], [0.6666666666666666, \"#ed7953\"], [0.7777777777777778, \"#fb9f3a\"], [0.8888888888888888, \"#fdca26\"], [1.0, \"#f0f921\"]]}, \"colorway\": [\"#636efa\", \"#EF553B\", \"#00cc96\", \"#ab63fa\", \"#FFA15A\", \"#19d3f3\", \"#FF6692\", \"#B6E880\", \"#FF97FF\", \"#FECB52\"], \"font\": {\"color\": \"#2a3f5f\"}, \"geo\": {\"bgcolor\": \"white\", \"lakecolor\": \"white\", \"landcolor\": \"#E5ECF6\", \"showlakes\": true, \"showland\": true, \"subunitcolor\": \"white\"}, \"hoverlabel\": {\"align\": \"left\"}, \"hovermode\": \"closest\", \"mapbox\": {\"style\": \"light\"}, \"paper_bgcolor\": \"white\", \"plot_bgcolor\": \"#E5ECF6\", \"polar\": {\"angularaxis\": {\"gridcolor\": \"white\", \"linecolor\": \"white\", \"ticks\": \"\"}, \"bgcolor\": \"#E5ECF6\", \"radialaxis\": {\"gridcolor\": \"white\", \"linecolor\": \"white\", \"ticks\": \"\"}}, \"scene\": {\"xaxis\": {\"backgroundcolor\": \"#E5ECF6\", \"gridcolor\": \"white\", \"gridwidth\": 2, \"linecolor\": \"white\", \"showbackground\": true, \"ticks\": \"\", \"zerolinecolor\": \"white\"}, \"yaxis\": {\"backgroundcolor\": \"#E5ECF6\", \"gridcolor\": \"white\", \"gridwidth\": 2, \"linecolor\": \"white\", \"showbackground\": true, \"ticks\": \"\", \"zerolinecolor\": \"white\"}, \"zaxis\": {\"backgroundcolor\": \"#E5ECF6\", \"gridcolor\": \"white\", \"gridwidth\": 2, \"linecolor\": \"white\", \"showbackground\": true, \"ticks\": \"\", \"zerolinecolor\": \"white\"}}, \"shapedefaults\": {\"line\": {\"color\": \"#2a3f5f\"}}, \"ternary\": {\"aaxis\": {\"gridcolor\": \"white\", \"linecolor\": \"white\", \"ticks\": \"\"}, \"baxis\": {\"gridcolor\": \"white\", \"linecolor\": \"white\", \"ticks\": \"\"}, \"bgcolor\": \"#E5ECF6\", \"caxis\": {\"gridcolor\": \"white\", \"linecolor\": \"white\", \"ticks\": \"\"}}, \"title\": {\"x\": 0.05}, \"xaxis\": {\"automargin\": true, \"gridcolor\": \"white\", \"linecolor\": \"white\", \"ticks\": \"\", \"title\": {\"standoff\": 15}, \"zerolinecolor\": \"white\", \"zerolinewidth\": 2}, \"yaxis\": {\"automargin\": true, \"gridcolor\": \"white\", \"linecolor\": \"white\", \"ticks\": \"\", \"title\": {\"standoff\": 15}, \"zerolinecolor\": \"white\", \"zerolinewidth\": 2}}}, \"xaxis\": {\"anchor\": \"y\", \"domain\": [0.0, 1.0], \"title\": {\"text\": \"Character Names\"}}, \"yaxis\": {\"anchor\": \"x\", \"domain\": [0.0, 1.0], \"title\": {\"text\": \"Number of Occurrences\"}, \"type\": \"log\"}},                        {\"responsive\": true}                    ).then(function(){\n",
       "                            \n",
       "var gd = document.getElementById('8071004e-b717-41e4-91cc-261842111914');\n",
       "var x = new MutationObserver(function (mutations, observer) {{\n",
       "        var display = window.getComputedStyle(gd).display;\n",
       "        if (!display || display === 'none') {{\n",
       "            console.log([gd, 'removed!']);\n",
       "            Plotly.purge(gd);\n",
       "            observer.disconnect();\n",
       "        }}\n",
       "}});\n",
       "\n",
       "// Listen for the removal of the full notebook cells\n",
       "var notebookContainer = gd.closest('#notebook-container');\n",
       "if (notebookContainer) {{\n",
       "    x.observe(notebookContainer, {childList: true});\n",
       "}}\n",
       "\n",
       "// Listen for the clearing of the current output cell\n",
       "var outputEl = gd.closest('.output');\n",
       "if (outputEl) {{\n",
       "    x.observe(outputEl, {childList: true});\n",
       "}}\n",
       "\n",
       "                        })                };                });            </script>        </div>"
      ]
     },
     "metadata": {},
     "output_type": "display_data"
    }
   ],
   "source": [
    "from plotly import express as px\n",
    "\n",
    "dropped = char_names[principals[\"characters\"].value_counts() > 50]\n",
    "\n",
    "fig = px.scatter(dropped, x = dropped.index, y=dropped, log_y = True, \n",
    "                 labels={\"index\": \"Character Names\", \"y\": \"Number of Occurrences\"})\n",
    "fig.show()"
   ]
  },
  {
   "cell_type": "code",
   "execution_count": null,
   "metadata": {},
   "outputs": [],
   "source": []
  }
 ],
 "metadata": {
  "kernelspec": {
   "display_name": "Python 3",
   "language": "python",
   "name": "python3"
  },
  "language_info": {
   "codemirror_mode": {
    "name": "ipython",
    "version": 3
   },
   "file_extension": ".py",
   "mimetype": "text/x-python",
   "name": "python",
   "nbconvert_exporter": "python",
   "pygments_lexer": "ipython3",
   "version": "3.7.4"
  }
 },
 "nbformat": 4,
 "nbformat_minor": 2
}
